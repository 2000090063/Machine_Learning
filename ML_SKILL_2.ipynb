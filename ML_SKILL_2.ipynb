{
  "nbformat": 4,
  "nbformat_minor": 0,
  "metadata": {
    "colab": {
      "name": "ML-SKILL-2",
      "provenance": [],
      "authorship_tag": "ABX9TyO+X6rVZX4C2U4Czidj3JYN",
      "include_colab_link": true
    },
    "kernelspec": {
      "name": "python3",
      "display_name": "Python 3"
    },
    "language_info": {
      "name": "python"
    }
  },
  "cells": [
    {
      "cell_type": "markdown",
      "metadata": {
        "id": "view-in-github",
        "colab_type": "text"
      },
      "source": [
        "<a href=\"https://colab.research.google.com/github/2000090063/Machine_Learning/blob/main/ML_SKILL_2.ipynb\" target=\"_parent\"><img src=\"https://colab.research.google.com/assets/colab-badge.svg\" alt=\"Open In Colab\"/></a>"
      ]
    },
    {
      "cell_type": "code",
      "execution_count": null,
      "metadata": {
        "colab": {
          "base_uri": "https://localhost:8080/"
        },
        "id": "7Wyo-l5Tp4YC",
        "outputId": "30aeb01f-5cf0-49d3-e3d3-073ad7f6d2b2"
      },
      "outputs": [
        {
          "output_type": "stream",
          "name": "stdout",
          "text": [
            "confusion matrix :\n",
            "[[3 3]\n",
            " [1 3]]\n",
            "accuracy score is: 0.6\n",
            "classification report:\n",
            "              precision    recall  f1-score   support\n",
            "\n",
            "           0       0.75      0.50      0.60         6\n",
            "           1       0.50      0.75      0.60         4\n",
            "\n",
            "    accuracy                           0.60        10\n",
            "   macro avg       0.62      0.62      0.60        10\n",
            "weighted avg       0.65      0.60      0.60        10\n",
            "\n",
            "AUC-ROC 0.625\n",
            "LOG-LOSS VALUE 13.815750437193334\n"
          ]
        }
      ],
      "source": [
        "from sklearn.metrics import confusion_matrix\n",
        "from sklearn.metrics import accuracy_score\n",
        "from sklearn.metrics import classification_report\n",
        "from sklearn.metrics import roc_auc_score\n",
        "from sklearn.metrics import log_loss\n",
        "x_actual=[1,1,0,1,0,0,1,0,0,0]\n",
        "y_predic=[1,0,1,1,1,0,1,1,0,0]\n",
        "results=confusion_matrix(x_actual,y_predic)\n",
        "print(\"confusion matrix :\")\n",
        "print(results)\n",
        "print(\"accuracy score is:\",accuracy_score(x_actual,y_predic))\n",
        "print(\"classification report:\")\n",
        "print(classification_report(x_actual,y_predic))\n",
        "print('AUC-ROC',roc_auc_score(x_actual,y_predic))\n",
        "print('LOG-LOSS VALUE',log_loss(x_actual,y_predic))"
      ]
    }
  ]
}